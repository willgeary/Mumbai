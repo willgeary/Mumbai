{
 "cells": [
  {
   "cell_type": "markdown",
   "metadata": {},
   "source": [
    "# Scrapping Twitter Data in Mumbai"
   ]
  },
  {
   "cell_type": "markdown",
   "metadata": {},
   "source": [
    "Will Geary wcg2111@columbia.edu"
   ]
  },
  {
   "cell_type": "markdown",
   "metadata": {},
   "source": [
    "The code below is adapted from: https://github.com/ideoforms/python-twitter-examples/blob/master/twitter-search-geo.py"
   ]
  },
  {
   "cell_type": "markdown",
   "metadata": {},
   "source": [
    "Import libraries:"
   ]
  },
  {
   "cell_type": "code",
   "execution_count": 38,
   "metadata": {
    "collapsed": true
   },
   "outputs": [],
   "source": [
    "from twitter import *\n",
    "import sys\n",
    "import csv\n",
    "from tqdm import tqdm"
   ]
  },
  {
   "cell_type": "markdown",
   "metadata": {},
   "source": [
    "Twitter API Keys:"
   ]
  },
  {
   "cell_type": "code",
   "execution_count": 26,
   "metadata": {
    "collapsed": true
   },
   "outputs": [],
   "source": [
    "# Consumer Key (API Key)\n",
    "CONSUMER_KEY = \"EddX4FKOdrfR5Wn9tva9ecNKA\"\n",
    "\n",
    "# Consumer Secret (API Secret)\n",
    "CONSUMER_SECRET = \"AYE2wzyR8BLs4p64CxVrQZ2cnsvpRuLUB5vLyTYO6MvGOvI1m1\"\n",
    "\n",
    "# Access Level\tRead and write (modify app permissions)\n",
    "OWNER = \"wgeary\"\n",
    "OWNER_ID = \"31334384\"\n",
    "\n",
    "ACCESS_KEY = \"31334384-s2tnZgrHGbK0ktENpLidXBMdtImhlzHQmndPFyAQw\"\n",
    "ACCESS_SECRET = \"g8DCaZAtCcq7YFOBGBU3vz39KtdW1Yml2bHVvUaUnrDDK\""
   ]
  },
  {
   "cell_type": "markdown",
   "metadata": {},
   "source": [
    "Inputs:"
   ]
  },
  {
   "cell_type": "code",
   "execution_count": 56,
   "metadata": {
    "collapsed": true
   },
   "outputs": [],
   "source": [
    "latitude = 19.075967    # geographical centre of search\n",
    "longitude = 72.877389   # geographical centre of search\n",
    "max_range = 3           # search range in kilometres\n",
    "num_results = 50        # minimum results to obtain\n",
    "outfile = \"output.csv\"  # output filename"
   ]
  },
  {
   "cell_type": "markdown",
   "metadata": {},
   "source": [
    "Main function:"
   ]
  },
  {
   "cell_type": "code",
   "execution_count": 57,
   "metadata": {},
   "outputs": [
    {
     "name": "stdout",
     "output_type": "stream",
     "text": [
      "got 32 results\n",
      "got 72 results\n",
      "written to output.csv\n"
     ]
    }
   ],
   "source": [
    "#-----------------------------------------------------------------------\n",
    "# twitter-search-geo\n",
    "#  - performs a search for tweets close to New Cross, London,\n",
    "#    and outputs them to a CSV file.\n",
    "#-----------------------------------------------------------------------\n",
    "\n",
    "twitter = Twitter(\n",
    "            auth = OAuth(ACCESS_KEY, ACCESS_SECRET, CONSUMER_KEY, CONSUMER_SECRET))\n",
    "\n",
    "csvfile = file(outfile, \"w\")\n",
    "csvwriter = csv.writer(csvfile)\n",
    "row = [ \"user\", \"text\", \"latitude\", \"longitude\" ]\n",
    "csvwriter.writerow(row)\n",
    "\n",
    "#-----------------------------------------------------------------------\n",
    "# the twitter API only allows us to query up to 100 tweets at a time.\n",
    "# to search for more, we will break our search up into 10 \"pages\", each\n",
    "# of which will include 100 matching tweets.\n",
    "#-----------------------------------------------------------------------\n",
    "result_count = 0\n",
    "last_id = None\n",
    "while result_count <  num_results:\n",
    "    \n",
    "    query = twitter.search.tweets(q = \"\", geocode = \"%f,%f,%dkm\" % (latitude, longitude, max_range), \n",
    "                                  count = 100, max_id = last_id)\n",
    "\n",
    "    for result in query[\"statuses\"]:\n",
    "    \n",
    "            #-----------------------------------------------------------------------\n",
    "            # only process a result if it has a geolocation\n",
    "            #-----------------------------------------------------------------------\n",
    "            if result[\"geo\"]:\n",
    "                user = result[\"user\"][\"screen_name\"]\n",
    "                text = result[\"text\"]\n",
    "                text = text.encode('ascii', 'replace')\n",
    "                latitude = result[\"geo\"][\"coordinates\"][0]\n",
    "                longitude = result[\"geo\"][\"coordinates\"][1]\n",
    "\n",
    "                #-----------------------------------------------------------------------\n",
    "                # now write this row to our CSV file\n",
    "                #-----------------------------------------------------------------------\n",
    "                row = [ user, text, latitude, longitude ]\n",
    "                csvwriter.writerow(row)\n",
    "                result_count += 1\n",
    "            last_id = result[\"id\"]\n",
    "\n",
    "    #-----------------------------------------------------------------------\n",
    "    # let the user know where we're up to\n",
    "    #-----------------------------------------------------------------------\n",
    "    print \"got %d results\" % result_count\n",
    "\n",
    "#-----------------------------------------------------------------------\n",
    "# we're all finished, clean up and go home.\n",
    "#-----------------------------------------------------------------------\n",
    "csvfile.close()\n",
    "\n",
    "print \"written to %s\" % outfile"
   ]
  }
 ],
 "metadata": {
  "kernelspec": {
   "display_name": "Python 2",
   "language": "python",
   "name": "python2"
  },
  "language_info": {
   "codemirror_mode": {
    "name": "ipython",
    "version": 2
   },
   "file_extension": ".py",
   "mimetype": "text/x-python",
   "name": "python",
   "nbconvert_exporter": "python",
   "pygments_lexer": "ipython2",
   "version": "2.7.13"
  }
 },
 "nbformat": 4,
 "nbformat_minor": 2
}
